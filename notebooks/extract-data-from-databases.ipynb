{
 "cells": [
  {
   "cell_type": "markdown",
   "metadata": {},
   "source": [
    "# Extracting data from relational databases\n",
    "## SQLite Database"
   ]
  },
  {
   "cell_type": "code",
   "execution_count": 1,
   "metadata": {},
   "outputs": [],
   "source": [
    "import sqlite3"
   ]
  },
  {
   "cell_type": "code",
   "execution_count": 2,
   "metadata": {},
   "outputs": [],
   "source": [
    "con = sqlite3.connect('classroomDB.db')\n",
    "con.close()"
   ]
  },
  {
   "cell_type": "markdown",
   "metadata": {},
   "source": [
    "## create table"
   ]
  },
  {
   "cell_type": "code",
   "execution_count": 3,
   "metadata": {},
   "outputs": [
    {
     "ename": "OperationalError",
     "evalue": "table classroom already exists",
     "output_type": "error",
     "traceback": [
      "\u001b[0;31m---------------------------------------------------------------------------\u001b[0m",
      "\u001b[0;31mOperationalError\u001b[0m                          Traceback (most recent call last)",
      "\u001b[0;32m<ipython-input-3-8239c9937561>\u001b[0m in \u001b[0;36m<module>\u001b[0;34m()\u001b[0m\n\u001b[1;32m     10\u001b[0m                 \"mathematics_marks INTEGER);\")\n\u001b[1;32m     11\u001b[0m \u001b[0;34m\u001b[0m\u001b[0m\n\u001b[0;32m---> 12\u001b[0;31m \u001b[0mcursor\u001b[0m\u001b[0;34m.\u001b[0m\u001b[0mexecute\u001b[0m\u001b[0;34m(\u001b[0m\u001b[0mcreate_table\u001b[0m\u001b[0;34m)\u001b[0m\u001b[0;34m\u001b[0m\u001b[0m\n\u001b[0m\u001b[1;32m     13\u001b[0m \u001b[0mcon\u001b[0m\u001b[0;34m.\u001b[0m\u001b[0mcommit\u001b[0m\u001b[0;34m(\u001b[0m\u001b[0;34m)\u001b[0m\u001b[0;34m\u001b[0m\u001b[0m\n\u001b[1;32m     14\u001b[0m \u001b[0mcon\u001b[0m\u001b[0;34m.\u001b[0m\u001b[0mclose\u001b[0m\u001b[0;34m(\u001b[0m\u001b[0;34m)\u001b[0m\u001b[0;34m\u001b[0m\u001b[0m\n",
      "\u001b[0;31mOperationalError\u001b[0m: table classroom already exists"
     ]
    }
   ],
   "source": [
    "con = sqlite3.connect('classroomDB.db')\n",
    "\n",
    "cursor = con.cursor()\n",
    "\n",
    "create_table = (\"CREATE TABLE classroom(student_id INTEGER PRIMARY KEY,\" +\n",
    "                \"name VARCHAR(20),\"+\n",
    "                \"gender CHAR(1),\"+\n",
    "                \"physics_marks INTEGER,\"+\n",
    "                \"chemistry_marks INTEGER,\"+\n",
    "                \"mathematics_marks INTEGER);\")\n",
    "\n",
    "cursor.execute(create_table)\n",
    "con.commit()\n",
    "con.close()"
   ]
  },
  {
   "cell_type": "markdown",
   "metadata": {},
   "source": [
    "## insert data"
   ]
  },
  {
   "cell_type": "code",
   "execution_count": 54,
   "metadata": {},
   "outputs": [
    {
     "name": "stdout",
     "output_type": "stream",
     "text": [
      "INSERT INTO classroom(student_id,name,gender,physics_marks,chemistry_marks,mathematics_marks) VALUES (1,'Hector','M',70,100,92);\n",
      "INSERT INTO classroom(student_id,name,gender,physics_marks,chemistry_marks,mathematics_marks) VALUES (2,'Abril','F',100,84,92);\n",
      "INSERT INTO classroom(student_id,name,gender,physics_marks,chemistry_marks,mathematics_marks) VALUES (3,'Michelle','F',90,100,94);\n"
     ]
    }
   ],
   "source": [
    "classroom_data = [(1, \"Hector\", \"M\", 70, 100, 92),\n",
    "                  (2, \"Abril\", \"F\", 100, 84, 92),\n",
    "                  (3, \"Michelle\", \"F\", 90, 100, 94)]\n",
    "\n",
    "con = sqlite3.connect('classroomDB.db')\n",
    "\n",
    "cursor = con.cursor()\n",
    "\n",
    "for student in classroom_data:\n",
    "    \n",
    "    insert = (\"INSERT INTO classroom(student_id,name,gender,physics_marks,chemistry_marks,mathematics_marks) VALUES (\"+str(student[0])+\",'\"+\n",
    "              str(student[1])+\"','\"+str(student[2])+\"',\"+str(student[3])+\",\"+str(student[4])+\",\"+str(student[5])+\");\")\n",
    "    print(insert)\n",
    "    cursor.execute(insert)\n",
    "con.commit()\n",
    "con.close()"
   ]
  },
  {
   "cell_type": "markdown",
   "metadata": {},
   "source": [
    "## extract data"
   ]
  },
  {
   "cell_type": "code",
   "execution_count": 57,
   "metadata": {},
   "outputs": [
    {
     "name": "stdout",
     "output_type": "stream",
     "text": [
      "[(1, 'Hector', 'M', 70, 100, 92), (2, 'Abril', 'F', 100, 84, 92), (3, 'Michelle', 'F', 90, 100, 94)]\n",
      "(1, 'Hector', 'M', 70, 100, 92)\n",
      "(2, 'Abril', 'F', 100, 84, 92)\n",
      "(3, 'Michelle', 'F', 90, 100, 94)\n"
     ]
    }
   ],
   "source": [
    "con = sqlite3.connect('classroomDB.db')\n",
    "\n",
    "cursor = con.cursor()\n",
    "\n",
    "q = \"SELECT * FROM classroom\"\n",
    "cursor.execute(q)\n",
    "\n",
    "result = cursor.fetchall()\n",
    "print(result)\n",
    "\n",
    "for row in result:\n",
    "    print(row)\n",
    "\n",
    "con.close()"
   ]
  },
  {
   "cell_type": "markdown",
   "metadata": {},
   "source": [
    "# MySQL Database"
   ]
  },
  {
   "cell_type": "code",
   "execution_count": 9,
   "metadata": {},
   "outputs": [
    {
     "ename": "ImportError",
     "evalue": "No module named 'pymysql'",
     "output_type": "error",
     "traceback": [
      "\u001b[0;31m---------------------------------------------------------------------------\u001b[0m",
      "\u001b[0;31mImportError\u001b[0m                               Traceback (most recent call last)",
      "\u001b[0;32m<ipython-input-9-a4103d9b2333>\u001b[0m in \u001b[0;36m<module>\u001b[0;34m()\u001b[0m\n\u001b[0;32m----> 1\u001b[0;31m \u001b[1;32mimport\u001b[0m \u001b[0mpymysql\u001b[0m\u001b[1;33m\u001b[0m\u001b[0m\n\u001b[0m",
      "\u001b[0;31mImportError\u001b[0m: No module named 'pymysql'"
     ]
    }
   ],
   "source": [
    "import pymysql"
   ]
  },
  {
   "cell_type": "markdown",
   "metadata": {},
   "source": [
    "## al no tener permisos, se instalará desde la CMD admin"
   ]
  },
  {
   "cell_type": "code",
   "execution_count": null,
   "metadata": {},
   "outputs": [],
   "source": [
    "!sudo pip install pymysql"
   ]
  },
  {
   "cell_type": "code",
   "execution_count": null,
   "metadata": {},
   "outputs": [],
   "source": [
    "import pymysql"
   ]
  },
  {
   "cell_type": "code",
   "execution_count": null,
   "metadata": {},
   "outputs": [],
   "source": [
    "conf = {'host' : 'localhost',\n",
    "         'username' : 'root',\n",
    "         'password' : 'root',\n",
    "         'db' : 'contaminantes2'}\n",
    "\n",
    "con = pymysql.connect(conf['host'], conf['username'], conf['password'],conf['db'])\n",
    "\n",
    "con.close()\n"
   ]
  },
  {
   "cell_type": "code",
   "execution_count": null,
   "metadata": {},
   "outputs": [],
   "source": [
    "con = pymysql.connect(conf['host'], conf['username'], conf['password'],conf['db'])\n",
    "cursor = con2.cursor()\n",
    "\n",
    "create_table = (\"\"\"CREATE TABLE classroom(\n",
    "                student_id INTEGER PRIMARY KEY,\n",
    "                name VARCHAR(20),\n",
    "                gender CHAR(1),\n",
    "                physics_marks INTEGER,\n",
    "                chemistry_marks INTEGER,\n",
    "                mathematics_marks INTEGER);\"\"\")\n",
    "\n",
    "cursor.execute(create_table)\n",
    "con.commit()\n",
    "con.close()"
   ]
  },
  {
   "cell_type": "code",
   "execution_count": null,
   "metadata": {},
   "outputs": [],
   "source": [
    "classroom_data = [(1, \"Hector\", \"M\", 70, 100, 92),\n",
    "                  (2, \"Abril\", \"F\", 100, 84, 92),\n",
    "                  (3, \"Michelle\", \"F\", 90, 100, 94)]\n",
    "\n",
    "con = pymysql.connect(conf['host'], conf['username'], conf['password'],conf['db'])\n",
    "cursor = con.cursor()\n",
    "\n",
    "for student in classroom_data:\n",
    "    insert = (\"INSERT INTO classroom(student_id,name,gender,physics_marks,chemistry_marks,mathematics_marks) VALUES (\"+str(student[0])+\",'\"+\n",
    "              str(student[1])+\"','\"+str(student[2])+\"',\"+str(student[3])+\",\"+str(student[4])+\",\"+str(student[5])+\");\")\n",
    "    cursor.execute(insert)\n",
    "    print(insert)\n",
    "    \n",
    "con.commit()\n",
    "con.close()"
   ]
  },
  {
   "cell_type": "code",
   "execution_count": null,
   "metadata": {},
   "outputs": [],
   "source": [
    "con = pymysql.connect(conf['host'], conf['username'], conf['password'],conf['db'])\n",
    "cursor = con.cursor()\n",
    "q = \"SELECT * FROM classroom\"\n",
    "cursor.execute(q)\n",
    "\n",
    "result = cursor.fetchall()\n",
    "print(result)\n",
    "\n",
    "for row in result:\n",
    "    print(row)\n",
    "\n",
    "con.close()"
   ]
  },
  {
   "cell_type": "code",
   "execution_count": null,
   "metadata": {},
   "outputs": [],
   "source": []
  },
  {
   "cell_type": "code",
   "execution_count": null,
   "metadata": {},
   "outputs": [],
   "source": []
  }
 ],
 "metadata": {
  "anaconda-cloud": {},
  "kernelspec": {
   "display_name": "Python 3",
   "language": "python",
   "name": "python3"
  },
  "language_info": {
   "codemirror_mode": {
    "name": "ipython",
    "version": 3
   },
   "file_extension": ".py",
   "mimetype": "text/x-python",
   "name": "python",
   "nbconvert_exporter": "python",
   "pygments_lexer": "ipython3",
   "version": "3.6.5"
  }
 },
 "nbformat": 4,
 "nbformat_minor": 1
}
